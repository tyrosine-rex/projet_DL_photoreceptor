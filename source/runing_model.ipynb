{
 "cells": [
  {
   "cell_type": "code",
   "execution_count": 1,
   "id": "b8e532a1",
   "metadata": {},
   "outputs": [],
   "source": [
    "import sklearn\n",
    "from PIL import Image\n",
    "import pickle\n",
    "import numpy as np\n",
    "from numpy import asarray\n",
    "from IPython import display\n",
    "import matplotlib.pyplot as plt"
   ]
  },
  {
   "cell_type": "code",
   "execution_count": 2,
   "id": "b39a1b68",
   "metadata": {},
   "outputs": [
    {
     "name": "stderr",
     "output_type": "stream",
     "text": [
      "C:\\Users\\willi\\anaconda3\\envs\\TAA\\lib\\site-packages\\sklearn\\base.py:329: UserWarning: Trying to unpickle estimator DecisionTreeClassifier from version 1.0.2 when using version 1.1.1. This might lead to breaking code or invalid results. Use at your own risk. For more info please refer to:\n",
      "https://scikit-learn.org/stable/model_persistence.html#security-maintainability-limitations\n",
      "  warnings.warn(\n",
      "C:\\Users\\willi\\anaconda3\\envs\\TAA\\lib\\site-packages\\sklearn\\base.py:329: UserWarning: Trying to unpickle estimator RandomForestClassifier from version 1.0.2 when using version 1.1.1. This might lead to breaking code or invalid results. Use at your own risk. For more info please refer to:\n",
      "https://scikit-learn.org/stable/model_persistence.html#security-maintainability-limitations\n",
      "  warnings.warn(\n",
      "C:\\Users\\willi\\anaconda3\\envs\\TAA\\lib\\site-packages\\sklearn\\base.py:329: UserWarning: Trying to unpickle estimator LabelBinarizer from version 1.0.2 when using version 1.1.1. This might lead to breaking code or invalid results. Use at your own risk. For more info please refer to:\n",
      "https://scikit-learn.org/stable/model_persistence.html#security-maintainability-limitations\n",
      "  warnings.warn(\n",
      "C:\\Users\\willi\\anaconda3\\envs\\TAA\\lib\\site-packages\\sklearn\\base.py:329: UserWarning: Trying to unpickle estimator OneVsRestClassifier from version 1.0.2 when using version 1.1.1. This might lead to breaking code or invalid results. Use at your own risk. For more info please refer to:\n",
      "https://scikit-learn.org/stable/model_persistence.html#security-maintainability-limitations\n",
      "  warnings.warn(\n"
     ]
    }
   ],
   "source": [
    "#importation file model\n",
    "\n",
    "RF_classifier = pickle.load(open('./RF_classifier_model','rb'))\n"
   ]
  },
  {
   "cell_type": "code",
   "execution_count": 3,
   "id": "22bc3efa",
   "metadata": {},
   "outputs": [],
   "source": [
    "def predict_image(path_image):\n",
    "    im=Image.open(path_image)\n",
    "    im_array = asarray(im)\n",
    "    \n",
    "    im_array=np.reshape(im_array,3600)\n",
    "    \n",
    "    im_array= im_array.astype('float32') \n",
    "    im_array = im_array/255.0\n",
    "    im_array=[im_array]\n",
    "    \n",
    "    return RF_classifier.predict(im_array)\n",
    "\n",
    "def show_image(path_image):\n",
    "    plt.imshow(asarray(Image.open(path_image)), vmin=0, vmax=255)\n",
    "    plt.axis(\"off\")"
   ]
  },
  {
   "cell_type": "code",
   "execution_count": 4,
   "id": "0956ccfe",
   "metadata": {},
   "outputs": [
    {
     "data": {
      "text/plain": [
       "\"\\n#afficher l'image\\nshow_image('./Projet_12_IA/data/preprocess/Vignettes/164566_5.tif') \\n#prédire le nombre de récepteur\\nprint(predict_image('./Projet_12_IA/data/preprocess/Vignettes/164566_5.tif'))\\n\""
      ]
     },
     "execution_count": 4,
     "metadata": {},
     "output_type": "execute_result"
    }
   ],
   "source": [
    "#exemple de test sur une image\n",
    "'''\n",
    "#afficher l'image\n",
    "show_image('./Projet_12_IA/data/preprocess/Vignettes/164566_5.tif') \n",
    "#prédire le nombre de récepteur\n",
    "print(predict_image('./Projet_12_IA/data/preprocess/Vignettes/164566_5.tif'))\n",
    "'''"
   ]
  },
  {
   "cell_type": "code",
   "execution_count": null,
   "id": "b3b91e5e",
   "metadata": {},
   "outputs": [],
   "source": []
  }
 ],
 "metadata": {
  "kernelspec": {
   "display_name": "Python 3 (ipykernel)",
   "language": "python",
   "name": "python3"
  },
  "language_info": {
   "codemirror_mode": {
    "name": "ipython",
    "version": 3
   },
   "file_extension": ".py",
   "mimetype": "text/x-python",
   "name": "python",
   "nbconvert_exporter": "python",
   "pygments_lexer": "ipython3",
   "version": "3.9.13"
  }
 },
 "nbformat": 4,
 "nbformat_minor": 5
}
